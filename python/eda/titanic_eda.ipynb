{
 "cells": [
  {
   "cell_type": "markdown",
   "id": "0d1fae44",
   "metadata": {},
   "source": [
    "# Importing dependencies"
   ]
  },
  {
   "cell_type": "code",
   "execution_count": 2,
   "id": "4b563386",
   "metadata": {},
   "outputs": [
    {
     "ename": "ImportError",
     "evalue": "cannot import name 'SimpleImputer' from 'sklearn.preprocessing' (/Users/harrisonhenri/Documents/projetos/ml/ml-notes/python/venv/lib/python3.9/site-packages/sklearn/preprocessing/__init__.py)",
     "output_type": "error",
     "traceback": [
      "\u001b[0;31m---------------------------------------------------------------------------\u001b[0m",
      "\u001b[0;31mImportError\u001b[0m                               Traceback (most recent call last)",
      "Cell \u001b[0;32mIn[2], line 7\u001b[0m\n\u001b[1;32m      4\u001b[0m \u001b[38;5;28;01mfrom\u001b[39;00m \u001b[38;5;21;01mscipy\u001b[39;00m\u001b[38;5;21;01m.\u001b[39;00m\u001b[38;5;21;01mstats\u001b[39;00m \u001b[38;5;28;01mimport\u001b[39;00m zscore\n\u001b[1;32m      6\u001b[0m \u001b[38;5;66;03m# ML\u001b[39;00m\n\u001b[0;32m----> 7\u001b[0m \u001b[38;5;28;01mfrom\u001b[39;00m \u001b[38;5;21;01msklearn\u001b[39;00m\u001b[38;5;21;01m.\u001b[39;00m\u001b[38;5;21;01mpreprocessing\u001b[39;00m \u001b[38;5;28;01mimport\u001b[39;00m MinMaxScaler, SimpleImputer\n\u001b[1;32m      8\u001b[0m \u001b[38;5;28;01mfrom\u001b[39;00m \u001b[38;5;21;01msklearn\u001b[39;00m\u001b[38;5;21;01m.\u001b[39;00m\u001b[38;5;21;01mcluster\u001b[39;00m \u001b[38;5;28;01mimport\u001b[39;00m DBSCAN\n\u001b[1;32m     10\u001b[0m \u001b[38;5;66;03m# Data Manipulation\u001b[39;00m\n",
      "\u001b[0;31mImportError\u001b[0m: cannot import name 'SimpleImputer' from 'sklearn.preprocessing' (/Users/harrisonhenri/Documents/projetos/ml/ml-notes/python/venv/lib/python3.9/site-packages/sklearn/preprocessing/__init__.py)"
     ]
    }
   ],
   "source": [
    "%matplotlib inline\n",
    "\n",
    "# Statistics\n",
    "from scipy.stats import zscore\n",
    "\n",
    "# ML\n",
    "from sklearn.preprocessing import MinMaxScaler, SimpleImputer\n",
    "from sklearn.preprocessing import MinMaxScaler, SimpleImputer\n",
    "from sklearn.cluster import DBSCAN\n",
    "\n",
    "# Data Manipulation\n",
    "import numpy as np\n",
    "import pandas as pd\n",
    "\n",
    "# Visualization \n",
    "import matplotlib.pyplot as plt\n",
    "import missingno\n",
    "import seaborn as sns\n",
    "plt.style.use(\"seaborn-v0_8-whitegrid\")\n"
   ]
  },
  {
   "cell_type": "markdown",
   "id": "7340521e",
   "metadata": {},
   "source": [
    "# Loading data"
   ]
  },
  {
   "cell_type": "code",
   "execution_count": null,
   "id": "7905b7ea",
   "metadata": {
    "scrolled": false
   },
   "outputs": [],
   "source": [
    "data = pd.read_csv('titanic_dataset.csv')\n",
    "data.head(5)"
   ]
  },
  {
   "cell_type": "code",
   "execution_count": null,
   "id": "2f094669",
   "metadata": {
    "scrolled": false
   },
   "outputs": [],
   "source": [
    "# Missing values\n",
    "missingno.matrix(data, figsize = (30,10))"
   ]
  },
  {
   "cell_type": "code",
   "execution_count": null,
   "id": "ad3e023d",
   "metadata": {},
   "outputs": [],
   "source": [
    "# Data types\n",
    "data.dtypes"
   ]
  },
  {
   "cell_type": "markdown",
   "id": "172157e8",
   "metadata": {},
   "source": [
    "# Feature Cleaning, Engineering, and Imputation"
   ]
  },
  {
   "cell_type": "markdown",
   "id": "f548832d",
   "metadata": {},
   "source": [
    "## Feature: Survided\n",
    "Description: Whether the passenger survived or not.\n",
    "\n",
    "Key: 0 = did not survive, 1 = survived"
   ]
  },
  {
   "cell_type": "code",
   "execution_count": null,
   "id": "e3d1efaf",
   "metadata": {},
   "outputs": [],
   "source": [
    "# How many people survived?\n",
    "fig = plt.figure(figsize=(20,1))\n",
    "sns.countplot(y='Survived', data=data);"
   ]
  },
  {
   "cell_type": "markdown",
   "id": "a6a1670c",
   "metadata": {},
   "source": [
    "## Feature: Pclass\n",
    "Description: The ticket class of the passenger.\n",
    "\n",
    "Key: 1 = 1st, 2 = 2nd, 3 = 3rd"
   ]
  },
  {
   "cell_type": "code",
   "execution_count": null,
   "id": "078ec0cf",
   "metadata": {},
   "outputs": [],
   "source": [
    "sns.distplot(data.Pclass)"
   ]
  },
  {
   "cell_type": "code",
   "execution_count": null,
   "id": "34706c00",
   "metadata": {},
   "outputs": [],
   "source": [
    "# Are there any missing values in the Pclass column?\n",
    "data.Pclass.isnull().sum()"
   ]
  },
  {
   "cell_type": "markdown",
   "id": "cabe39fd",
   "metadata": {},
   "source": [
    "## Feature: Name\n",
    "Description: The name of the passenger.\n",
    "\n",
    "To keep this EDA fast, we won't move forward using the name variable."
   ]
  },
  {
   "cell_type": "markdown",
   "id": "a22b0145",
   "metadata": {},
   "source": [
    "## Feature: Sex\n",
    "    \n",
    "Description: The sex of the passenger (male or female)."
   ]
  },
  {
   "cell_type": "code",
   "execution_count": null,
   "id": "03f16545",
   "metadata": {},
   "outputs": [],
   "source": [
    "# Let's view the distribution of Sex\n",
    "plt.figure(figsize=(20, 5))\n",
    "sns.countplot(y=\"Sex\", data=data);"
   ]
  },
  {
   "cell_type": "code",
   "execution_count": null,
   "id": "668febf7",
   "metadata": {},
   "outputs": [],
   "source": [
    "# Are there any missing values in the Pclass column?\n",
    "data.Sex.isnull().sum()"
   ]
  },
  {
   "cell_type": "code",
   "execution_count": null,
   "id": "c8471a87",
   "metadata": {},
   "outputs": [],
   "source": [
    "# How does the Sex variable look compared to Survival?\n",
    "# We can see this because they're both binarys.\n",
    "fig = plt.figure(figsize=(10, 10))\n",
    "sex_df = data[['Survived', 'Sex']]\n",
    "sex_df['Sex'] = np.where(sex_df['Sex'] == 'female', 1, 0)\n",
    "\n",
    "sns.distplot(sex_df.loc[sex_df['Survived'] == 1]['Sex'], kde_kws={'label': 'Survived'})\n",
    "sns.distplot(sex_df.loc[sex_df['Survived'] == 0]['Sex'], kde_kws={'label': 'Did not survive'})\n",
    "plt.legend()"
   ]
  },
  {
   "cell_type": "markdown",
   "id": "b424724b",
   "metadata": {},
   "source": [
    "## Feature: Age\n",
    "Description: The age of the passenger."
   ]
  },
  {
   "cell_type": "code",
   "execution_count": null,
   "id": "209e3564",
   "metadata": {},
   "outputs": [],
   "source": [
    "# How many missing values does age have?\n",
    "data.Age.isnull().sum()"
   ]
  },
  {
   "cell_type": "markdown",
   "id": "ca0b7cfe",
   "metadata": {},
   "source": [
    "## Feature: SibSp\n",
    "Description: The number of siblings/spouses the passenger has aboard the Titanic."
   ]
  },
  {
   "cell_type": "code",
   "execution_count": null,
   "id": "35769892",
   "metadata": {},
   "outputs": [],
   "source": [
    "# How many missing values does SibSp have?\n",
    "data.SibSp.isnull().sum()"
   ]
  },
  {
   "cell_type": "code",
   "execution_count": null,
   "id": "1b7f360e",
   "metadata": {},
   "outputs": [],
   "source": [
    "# How does the SibSp variable look compared to Survival?\n",
    "# We can see this because they're both binarys.\n",
    "fig = plt.figure(figsize=(10, 10))\n",
    "sibsp_df = data[['Survived', 'SibSp']]\n",
    "\n",
    "sns.distplot(sibsp_df.loc[sex_df['Survived'] == 1]['SibSp'], kde_kws={'label': 'Survived'})\n",
    "sns.distplot(sibsp_df.loc[sex_df['Survived'] == 0]['SibSp'], kde_kws={'label': 'Did not survive'})\n",
    "plt.legend()"
   ]
  },
  {
   "cell_type": "markdown",
   "id": "55f833c1",
   "metadata": {},
   "source": [
    "## Feature: Parch\n",
    "Description: The number of parents/children the passenger has aboard the Titanic."
   ]
  },
  {
   "cell_type": "code",
   "execution_count": null,
   "id": "51ccb192",
   "metadata": {},
   "outputs": [],
   "source": [
    "# How many missing values does SibSp have?\n",
    "data.Parch.isnull().sum()"
   ]
  },
  {
   "cell_type": "code",
   "execution_count": null,
   "id": "f420481f",
   "metadata": {
    "scrolled": true
   },
   "outputs": [],
   "source": [
    "# How does the Parch variable look compared to Survival?\n",
    "# We can see this because they're both binarys.\n",
    "fig = plt.figure(figsize=(10, 10))\n",
    "parch_df = data[['Survived', 'Parch']]\n",
    "\n",
    "sns.distplot(parch_df.loc[parch_df['Survived'] == 1]['Parch'], kde_kws={'label': 'Survived'})\n",
    "sns.distplot(parch_df.loc[parch_df['Survived'] == 0]['Parch'], kde_kws={'label': 'Did not survive'})\n",
    "plt.legend()"
   ]
  },
  {
   "cell_type": "markdown",
   "id": "4bc3f95b",
   "metadata": {},
   "source": [
    "## Feature: Ticket\n",
    "Description: The ticket number of the boarding passenger."
   ]
  },
  {
   "cell_type": "code",
   "execution_count": null,
   "id": "e1ae594b",
   "metadata": {},
   "outputs": [],
   "source": [
    "# How many missing values does Ticket have?\n",
    "data.Ticket.isnull().sum()"
   ]
  },
  {
   "cell_type": "code",
   "execution_count": null,
   "id": "3983ef81",
   "metadata": {},
   "outputs": [],
   "source": [
    "# How many unique kinds of Ticket are there?\n",
    "print(\"There are {} unique Ticket values.\".format(len(data.Ticket.unique())))"
   ]
  },
  {
   "cell_type": "markdown",
   "id": "ed1ba4c0",
   "metadata": {},
   "source": [
    "681 unique values is too many for now. So we won't use Ticket in our subset dataframes."
   ]
  },
  {
   "cell_type": "markdown",
   "id": "83731a1f",
   "metadata": {},
   "source": [
    "## Feature: Fare\n",
    "Description: How much the ticket cost."
   ]
  },
  {
   "cell_type": "code",
   "execution_count": null,
   "id": "40115186",
   "metadata": {},
   "outputs": [],
   "source": [
    "# How many different values of Fare are there?\n",
    "sns.countplot(y=\"Fare\", data=data);"
   ]
  },
  {
   "cell_type": "markdown",
   "id": "3f3ba861",
   "metadata": {},
   "source": [
    "## Feature: Cabin\n",
    "Description: The cabin number where the passenger was staying."
   ]
  },
  {
   "cell_type": "code",
   "execution_count": null,
   "id": "b3fd7159",
   "metadata": {
    "scrolled": true
   },
   "outputs": [],
   "source": [
    "# How many missing values does Cabin have?\n",
    "data.Cabin.isnull().sum()"
   ]
  },
  {
   "cell_type": "markdown",
   "id": "a0967de9",
   "metadata": {},
   "source": [
    "Since there are too many missing values, we won't use Cabin."
   ]
  },
  {
   "cell_type": "markdown",
   "id": "a6699c37",
   "metadata": {},
   "source": [
    "## Feature: Embarked\n",
    "Description: The port where the passenger boarded the Titanic.\n",
    "\n",
    "Key: C = Cherbourg, Q = Queenstown, S = Southampton"
   ]
  },
  {
   "cell_type": "code",
   "execution_count": null,
   "id": "dd8fbf90",
   "metadata": {},
   "outputs": [],
   "source": [
    "# What do the counts look like?\n",
    "sns.countplot(y='Embarked', data=data);"
   ]
  },
  {
   "cell_type": "markdown",
   "id": "d7c4329b",
   "metadata": {},
   "source": [
    "## Heatmap or pairplot"
   ]
  },
  {
   "cell_type": "code",
   "execution_count": null,
   "id": "4884e98d",
   "metadata": {},
   "outputs": [],
   "source": [
    "age_fare = data[[\"Age\", \"Fare\"]]"
   ]
  },
  {
   "cell_type": "code",
   "execution_count": null,
   "id": "3f1ff6c2",
   "metadata": {},
   "outputs": [],
   "source": [
    "sns.heatmap(data=age_fare.corr()) "
   ]
  },
  {
   "cell_type": "code",
   "execution_count": null,
   "id": "1651bc30",
   "metadata": {
    "scrolled": true
   },
   "outputs": [],
   "source": [
    "sns.pairplot(age_fare)"
   ]
  },
  {
   "cell_type": "markdown",
   "id": "a049725a",
   "metadata": {},
   "source": [
    "## Outline detection"
   ]
  },
  {
   "cell_type": "markdown",
   "id": "5b3e4a72",
   "metadata": {},
   "source": [
    "### Z-score"
   ]
  },
  {
   "cell_type": "code",
   "execution_count": null,
   "id": "5d63966b",
   "metadata": {},
   "outputs": [],
   "source": [
    "age = data[\"Age\"].dropna()\n",
    "age_zscore = zscore(age)\n",
    "\n",
    "# Confidence level: 99.4% \n",
    "is_outlier = age_zscore.apply(\n",
    "  lambda x: x <= -2.5 or x >= 2.5\n",
    ")\n",
    "\n",
    "age[is_outlier]"
   ]
  },
  {
   "cell_type": "markdown",
   "id": "e892801c",
   "metadata": {},
   "source": [
    "### DBSCAN"
   ]
  },
  {
   "cell_type": "code",
   "execution_count": null,
   "id": "a574ddd2",
   "metadata": {
    "scrolled": true
   },
   "outputs": [],
   "source": [
    "from sklearn.preprocessing import MinMaxScaler\n",
    "scaler = MinMaxScaler()\n",
    "age_fare_scaled = scaler.fit_transform(age_fare.dropna())\n",
    "\n",
    "outlier_detection = DBSCAN(\n",
    "  eps = 0.5,\n",
    "  metric=\"euclidean\",\n",
    "  n_jobs = -1)\n",
    "\n",
    "clusters = outlier_detection.fit_predict(age_fare_scaled)\n",
    "\n",
    "age_fare_cleaned = age_fare.dropna()[clusters!=-1]\n",
    "\n",
    "age_fare_cleaned"
   ]
  },
  {
   "cell_type": "code",
   "execution_count": null,
   "id": "1e8499f5",
   "metadata": {},
   "outputs": [],
   "source": [
    "## Handling missing data"
   ]
  },
  {
   "cell_type": "code",
   "execution_count": null,
   "id": "f5210fde",
   "metadata": {},
   "outputs": [],
   "source": [
    "imp = SimpleImputer(strategy='mean')\n",
    "age_fare_cleaned = imp.fit_transform(age_fare)\n",
    "age_fare_cleaned"
   ]
  }
 ],
 "metadata": {
  "kernelspec": {
   "display_name": "Python 3 (ipykernel)",
   "language": "python",
   "name": "python3"
  },
  "language_info": {
   "codemirror_mode": {
    "name": "ipython",
    "version": 3
   },
   "file_extension": ".py",
   "mimetype": "text/x-python",
   "name": "python",
   "nbconvert_exporter": "python",
   "pygments_lexer": "ipython3",
   "version": "3.9.11"
  }
 },
 "nbformat": 4,
 "nbformat_minor": 5
}
